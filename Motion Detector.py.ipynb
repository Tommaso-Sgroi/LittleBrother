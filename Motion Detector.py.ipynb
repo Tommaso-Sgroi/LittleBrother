{
 "cells": [
  {
   "cell_type": "code",
   "id": "initial_id",
   "metadata": {
    "collapsed": true,
    "ExecuteTime": {
     "end_time": "2025-01-18T22:15:34.749465Z",
     "start_time": "2025-01-18T22:15:34.736708Z"
    }
   },
   "source": [
    "import sys\n",
    "from typing import Any\n",
    "\n",
    "import cv2 as cv\n",
    "import numpy as np"
   ],
   "outputs": [],
   "execution_count": 26
  },
  {
   "metadata": {
    "ExecuteTime": {
     "end_time": "2025-01-18T22:15:34.763584Z",
     "start_time": "2025-01-18T22:15:34.758892Z"
    }
   },
   "cell_type": "code",
   "source": [
    "\n",
    "def merge_overlapping_detections(detections: list, overlap_threshold: float = 0.3) -> list:\n",
    "    \"\"\"\n",
    "    Merges overlapping bounding boxes based on Intersection over Union (IoU).\n",
    "\n",
    "    Parameters:\n",
    "        detections: List of bounding boxes to merge.\n",
    "        overlap_threshold: IoU threshold for merging boxes. Boxes with IoU >= threshold are merged.\n",
    "\n",
    "    Returns:\n",
    "        list: List of merged bounding boxes.\n",
    "    \"\"\"\n",
    "    if not detections:\n",
    "        return []\n",
    "\n",
    "    boxes = np.array(detections)\n",
    "    x1, y1 = boxes[:, 0], boxes[:, 1]\n",
    "    x2, y2 = boxes[:, 2], boxes[:, 3]\n",
    "    areas = (x2 - x1 + 1) * (y2 - y1 + 1)\n",
    "\n",
    "    # Sort boxes by their area in descending order\n",
    "    order = areas.argsort()[::-1]\n",
    "    merged_boxes = []\n",
    "\n",
    "    while len(order) > 0:\n",
    "        i = order[0]\n",
    "        merged_boxes.append(boxes[i])\n",
    "\n",
    "        xx1 = np.maximum(x1[i], x1[order[1:]])\n",
    "        yy1 = np.maximum(y1[i], y1[order[1:]])\n",
    "        xx2 = np.minimum(x2[i], x2[order[1:]])\n",
    "        yy2 = np.minimum(y2[i], y2[order[1:]])\n",
    "\n",
    "        w = np.maximum(0, xx2 - xx1 + 1)\n",
    "        h = np.maximum(0, yy2 - yy1 + 1)\n",
    "\n",
    "        inter = w * h\n",
    "        union = areas[i] + areas[order[1:]] - inter\n",
    "        iou = inter / union\n",
    "\n",
    "        # Keep boxes with IoU below the threshold\n",
    "        remain_indices = np.where(iou < overlap_threshold)[0] + 1\n",
    "        order = order[remain_indices]\n",
    "\n",
    "    return merged_boxes"
   ],
   "id": "65e6db3652ee10e0",
   "outputs": [],
   "execution_count": 27
  },
  {
   "metadata": {
    "ExecuteTime": {
     "end_time": "2025-01-18T22:15:34.775089Z",
     "start_time": "2025-01-18T22:15:34.770740Z"
    }
   },
   "cell_type": "code",
   "source": [
    "def detect_moving_objects(frame: np.ndarray, background_subtractor: cv.BackgroundSubtractor,\n",
    "                          area_threshold: int = 100) -> tuple[Any, Any]:\n",
    "    \"\"\"\n",
    "    Detects moving objects using a background subtractor, returns their bounding boxes.\n",
    "\n",
    "    Parameters:\n",
    "        frame: Current video frame.\n",
    "        background_subtractor: Background subtractor for motion detection.\n",
    "        area_threshold: Minimum area for detected bounding boxes.\n",
    "\n",
    "\n",
    "    Returns:\n",
    "        List of detected bounding boxes with their areas, [x1, y1, x2, y2, area]\n",
    "    \"\"\"\n",
    "\n",
    "    fg_mask = background_subtractor.apply(frame)\n",
    "    contours, _ = cv.findContours(fg_mask, cv.RETR_EXTERNAL, cv.CHAIN_APPROX_SIMPLE)\n",
    "\n",
    "    detections = []\n",
    "    for cnt in contours:\n",
    "        x, y, w, h = cv.boundingRect(cnt)\n",
    "        area = w * h\n",
    "        if area > area_threshold:\n",
    "            detections.append([x, y, x + w, y + h, area])\n",
    "\n",
    "    return detections, fg_mask"
   ],
   "id": "1119c0ce7b38687d",
   "outputs": [],
   "execution_count": 28
  },
  {
   "metadata": {
    "ExecuteTime": {
     "end_time": "2025-01-18T22:15:34.784139Z",
     "start_time": "2025-01-18T22:15:34.780826Z"
    }
   },
   "cell_type": "code",
   "source": [
    "def process_video(video_path: str, scale: float = 0.5, overlap_threshold: float = 0.3, area_threshold: int = 100):\n",
    "    \"\"\"\n",
    "    Processes the input video.\n",
    "\n",
    "    Parameters:\n",
    "        video_path: Path to the video file.\n",
    "        scale: Scaling factor for resizing frames.\n",
    "        overlap_threshold: Threshold for merging overlapping detections using IoU.\n",
    "        area_threshold: Minimum area for detected bounding boxes.\n",
    "\n",
    "    \"\"\"\n",
    "    capture = cv.VideoCapture(video_path)\n",
    "    back_sub = cv.createBackgroundSubtractorMOG2(detectShadows=False)\n",
    "\n",
    "    while True:\n",
    "        ret, frame = capture.read()\n",
    "        if not ret:\n",
    "            break\n",
    "\n",
    "        frame = cv.resize(frame, None, fx=scale, fy=scale, interpolation=cv.INTER_LINEAR)\n",
    "        detections, _ = detect_moving_objects(frame, back_sub, area_threshold=area_threshold)\n",
    "        merged_detections = merge_overlapping_detections(detections, overlap_threshold)\n",
    "\n",
    "        # Draw bounding boxes\n",
    "        for det in merged_detections:\n",
    "            x1, y1, x2, y2, _ = det\n",
    "            cv.rectangle(frame, (x1, y1), (x2, y2), (0, 255, 0), 2)\n",
    "\n",
    "        cv.imshow('Frame', frame)\n",
    "        key = cv.waitKey(1)\n",
    "        if key in [27, ord('q'), ord('Q')]:\n",
    "            break\n",
    "\n",
    "    capture.release()\n",
    "    cv.destroyAllWindows()\n",
    "\n",
    "    if sys.platform == 'darwin':\n",
    "        for _ in range(4):\n",
    "            cv.waitKey(1)\n",
    "\n",
    "    cv.destroyAllWindows()\n",
    "\n"
   ],
   "id": "8a3902c9f9ae4861",
   "outputs": [],
   "execution_count": 29
  },
  {
   "metadata": {},
   "cell_type": "markdown",
   "source": "# Main",
   "id": "b8d04d81258a7f91"
  },
  {
   "metadata": {
    "ExecuteTime": {
     "end_time": "2025-01-18T22:16:08.120317Z",
     "start_time": "2025-01-18T22:15:34.793229Z"
    }
   },
   "cell_type": "code",
   "source": [
    "video_path = 'SamsungGear360.mp4'\n",
    "process_video(video_path, scale=0.5, overlap_threshold=0.0005, area_threshold=700)"
   ],
   "id": "3946034d83bc6843",
   "outputs": [],
   "execution_count": 30
  }
 ],
 "metadata": {
  "kernelspec": {
   "display_name": "Python 3",
   "language": "python",
   "name": "python3"
  },
  "language_info": {
   "codemirror_mode": {
    "name": "ipython",
    "version": 2
   },
   "file_extension": ".py",
   "mimetype": "text/x-python",
   "name": "python",
   "nbconvert_exporter": "python",
   "pygments_lexer": "ipython2",
   "version": "2.7.6"
  }
 },
 "nbformat": 4,
 "nbformat_minor": 5
}
