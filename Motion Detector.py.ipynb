{
 "cells": [
  {
   "cell_type": "code",
   "id": "initial_id",
   "metadata": {
    "collapsed": true,
    "ExecuteTime": {
     "end_time": "2025-01-19T20:36:48.091462Z",
     "start_time": "2025-01-19T20:36:45.982875Z"
    }
   },
   "source": [
    "import sys\n",
    "from typing import Any\n",
    "from ultralytics import YOLO\n",
    "\n",
    "import cv2 as cv\n",
    "import numpy as np"
   ],
   "outputs": [],
   "execution_count": 4
  },
  {
   "metadata": {},
   "cell_type": "markdown",
   "source": "## Utilities functions",
   "id": "958cf11c42a5231c"
  },
  {
   "metadata": {
    "ExecuteTime": {
     "end_time": "2025-01-19T20:36:48.096546Z",
     "start_time": "2025-01-19T20:36:48.094005Z"
    }
   },
   "cell_type": "code",
   "source": [
    "def view(frame, *, scale=0.5):\n",
    "    \"\"\"\n",
    "    :param frame: frame to draw on\n",
    "    :param scale: scale factor to scale the frame by\n",
    "    :return: stop the drawing of the frame\n",
    "    \"\"\"\n",
    "    # Resize frame to    a normal view\n",
    "    frame = cv.resize(frame, None, fx=scale, fy=scale, interpolation=cv.INTER_LINEAR)\n",
    "    cv.imshow('Frame', frame)\n",
    "    key = cv.waitKey(1)\n",
    "    if key in [27, ord('q'), ord('Q')]:\n",
    "        return False\n",
    "    return True"
   ],
   "id": "da8ad7ab85809bca",
   "outputs": [],
   "execution_count": 5
  },
  {
   "metadata": {
    "ExecuteTime": {
     "end_time": "2025-01-19T20:36:48.142117Z",
     "start_time": "2025-01-19T20:36:48.139197Z"
    }
   },
   "cell_type": "code",
   "source": [
    "# utility crop on BBoxes\n",
    "def crop_bbox(frame: np.array, bbox: tuple[int, int, int, int]) -> np.ndarray:\n",
    "    \"\"\"\n",
    "    Crops the frame based on the bounding box.\n",
    "    :param frame: frame to crop.\n",
    "    :param bbox: bbox to crop [x1, y1, x2, y2], NO AREA IS NEEDED.\n",
    "    :return: the new frame cropped.\n",
    "\n",
    "    bbox example: [1947,  475, 1954,  698, 1561]\n",
    "    \"\"\"\n",
    "    # calculate width and height\n",
    "    x1, y1, x2, y2 = bbox\n",
    "    w = x2 - x1\n",
    "    h = y2 - y1\n",
    "\n",
    "    cropped_frame = frame[y1:y1+h, x1:x1+w]\n",
    "    return cropped_frame\n",
    "\n",
    "def crop_bboxes(frame, bboxes: list[tuple[int, int, int, int]]) -> list[np.ndarray]:\n",
    "    # cropped = []\n",
    "    # for bbox in bboxes:\n",
    "    #     cropped_frame = crop_bbox(frame, bbox)\n",
    "    #     cropped.append(cropped_frame)\n",
    "    return [\n",
    "        crop_bbox(frame, bbox) for bbox in bboxes\n",
    "    ]"
   ],
   "id": "e76dcf147ea20aed",
   "outputs": [],
   "execution_count": 6
  },
  {
   "metadata": {
    "ExecuteTime": {
     "end_time": "2025-01-19T20:36:48.188199Z",
     "start_time": "2025-01-19T20:36:48.184338Z"
    }
   },
   "cell_type": "code",
   "source": [
    "\n",
    "def merge_overlapping_detections(detections: list, overlap_threshold: float = 0.3) -> list:\n",
    "    \"\"\"\n",
    "    Merges overlapping bounding boxes based on Intersection over Union (IoU).\n",
    "\n",
    "    Parameters:\n",
    "        detections: List of bounding boxes to merge.\n",
    "        overlap_threshold: IoU threshold for merging boxes. Boxes with IoU >= threshold are merged.\n",
    "\n",
    "    Returns:\n",
    "        list: List of merged bounding boxes.\n",
    "    \"\"\"\n",
    "    if not detections:\n",
    "        return []\n",
    "\n",
    "    boxes = np.array(detections)\n",
    "    x1, y1 = boxes[:, 0], boxes[:, 1]\n",
    "    x2, y2 = boxes[:, 2], boxes[:, 3]\n",
    "    areas = (x2 - x1 + 1) * (y2 - y1 + 1)\n",
    "    '''\n",
    "    [     x      y    w      h   Area\n",
    "        [ 1842   647  1926   771 10416]\n",
    "        [ 1918   512  1947   575  1827]\n",
    "        [ 1855   467  1912   635  9576]\n",
    "     ]\n",
    "    ------------------------\n",
    "    [1842 1918 1855] all x1\n",
    "    ------------------------\n",
    "    [647 512 467] all y1\n",
    "    ------------------------\n",
    "    [1926 1947 1912] all x2\n",
    "    ------------------------\n",
    "    [771 575 635] all y2\n",
    "    ------------------------\n",
    "    [10625  1920  9802] all Area between them\n",
    "    '''\n",
    "\n",
    "    # Sort boxes by their area in descending order\n",
    "    order = areas.argsort()[::-1]  # a[start:end:step]\n",
    "    merged_boxes = []\n",
    "\n",
    "    while len(order) > 0:\n",
    "        i = order[0]\n",
    "        merged_boxes.append(boxes[i])\n",
    "\n",
    "        xx1 = np.maximum(x1[i], x1[order[1:]])\n",
    "        yy1 = np.maximum(y1[i], y1[order[1:]])\n",
    "        xx2 = np.minimum(x2[i], x2[order[1:]])\n",
    "        yy2 = np.minimum(y2[i], y2[order[1:]])\n",
    "\n",
    "        w = np.maximum(0, xx2 - xx1 + 1)\n",
    "        h = np.maximum(0, yy2 - yy1 + 1)\n",
    "\n",
    "        inter = w * h\n",
    "        union = areas[i] + areas[order[1:]] - inter\n",
    "        iou = inter / union\n",
    "\n",
    "        # Keep boxes with IoU below the threshold\n",
    "        remain_indices = np.where(iou < overlap_threshold)[0] + 1\n",
    "        order = order[remain_indices]\n",
    "\n",
    "    return merged_boxes"
   ],
   "id": "65e6db3652ee10e0",
   "outputs": [],
   "execution_count": 7
  },
  {
   "metadata": {},
   "cell_type": "markdown",
   "source": "## MOG2 Movement Detection",
   "id": "d9cf0bd925134c3"
  },
  {
   "metadata": {
    "ExecuteTime": {
     "end_time": "2025-01-19T20:36:48.233006Z",
     "start_time": "2025-01-19T20:36:48.230130Z"
    }
   },
   "cell_type": "code",
   "source": [
    "def detect_moving_objects(frame: np.ndarray, background_subtractor: cv.BackgroundSubtractor,\n",
    "                          area_threshold: int = 100) -> tuple[Any, Any]:\n",
    "    \"\"\"\n",
    "    Detects moving objects using a background subtractor, returns their bounding boxes.\n",
    "\n",
    "    Parameters:\n",
    "        frame: Current video frame.\n",
    "        background_subtractor: Background subtractor for motion detection.\n",
    "        area_threshold: Minimum area for detected bounding boxes.\n",
    "\n",
    "\n",
    "    Returns:\n",
    "        List of detected bounding boxes with their areas, [x1, y1, x2, y2, area]\n",
    "\n",
    "    Notes:\n",
    "        - https://medium.com/analytics-vidhya/opencv-findcontours-detailed-guide-692ee19eeb18\n",
    "    \"\"\"\n",
    "\n",
    "    fg_mask = background_subtractor.apply(frame)\n",
    "    contours, _ = cv.findContours(fg_mask, cv.RETR_EXTERNAL, cv.CHAIN_APPROX_SIMPLE)\n",
    "    detections = []\n",
    "    for cnt in contours:\n",
    "        x, y, w, h = cv.boundingRect(cnt)\n",
    "        area = w * h\n",
    "        if area > area_threshold:\n",
    "            detections.append([x, y, x + w, y + h, area])\n",
    "\n",
    "    return detections, fg_mask"
   ],
   "id": "1119c0ce7b38687d",
   "outputs": [],
   "execution_count": 8
  },
  {
   "metadata": {
    "ExecuteTime": {
     "end_time": "2025-01-19T20:36:48.278893Z",
     "start_time": "2025-01-19T20:36:48.276182Z"
    }
   },
   "cell_type": "code",
   "source": [
    "# utility function\n",
    "def mog2_movement_detection(frame: np.ndarray, *, background_subtractor: cv.BackgroundSubtractor, area_threshold: int = 100, overlap_threshold = 0.0, draw=False) -> tuple[Any, list, np.ndarray]:\n",
    "        detections, _ = detect_moving_objects(frame, background_subtractor, area_threshold=area_threshold)\n",
    "        merged_detections = merge_overlapping_detections(detections, overlap_threshold)\n",
    "\n",
    "        # Draw bounding boxes\n",
    "        if draw:\n",
    "            for det in merged_detections:\n",
    "                x1, y1, x2, y2, _ = det\n",
    "                cv.rectangle(frame, (x1, y1), (x2, y2), (0, 255, 0), 2)\n",
    "\n",
    "        return detections, merged_detections, frame"
   ],
   "id": "fc0a2c89d9a3cc3c",
   "outputs": [],
   "execution_count": 9
  },
  {
   "metadata": {},
   "cell_type": "markdown",
   "source": "## YOLO11 People Detection",
   "id": "e0cc2c503497ac20"
  },
  {
   "metadata": {
    "ExecuteTime": {
     "end_time": "2025-01-19T20:55:27.401931Z",
     "start_time": "2025-01-19T20:55:27.397233Z"
    }
   },
   "cell_type": "code",
   "source": [
    "class PeopleDetector(YOLO):\n",
    "    \"\"\"\n",
    "    0: 320x640 1 person, 1 umbrella, 3 chairs, 1 couch, 3 potted plants, 2 tvs, 21.1ms\n",
    "    Speed: 1.2ms preprocess, 21.1ms inference, 1.1ms postprocess per image at shape (1, 3, 320, 640)\n",
    "    [ultralytics.engine.results.Results object with attributes:\n",
    "\n",
    "    boxes: ultralytics.engine.results.Boxes object\n",
    "    keypoints: None\n",
    "    masks: None\n",
    "    names: {0: 'person', 1: 'bicycle', 2: 'car', 3: 'motorcycle', 4: 'airplane', 5: 'bus', 6: 'train', 7: 'truck', 8: 'boat', 9: 'traffic light', 10: 'fire hydrant', 11: 'stop sign', 12: 'parking meter', 13: 'bench', 14: 'bird', 15: 'cat', 16: 'dog', 17: 'horse', 18: 'sheep', 19: 'cow', 20: 'elephant', 21: 'bear', 22: 'zebra', 23: 'giraffe', 24: 'backpack', 25: 'umbrella', 26: 'handbag', 27: 'tie', 28: 'suitcase', 29: 'frisbee', 30: 'skis', 31: 'snowboard', 32: 'sports ball', 33: 'kite', 34: 'baseball bat', 35: 'baseball glove', 36: 'skateboard', 37: 'surfboard', 38: 'tennis racket', 39: 'bottle', 40: 'wine glass', 41: 'cup', 42: 'fork', 43: 'knife', 44: 'spoon', 45: 'bowl', 46: 'banana', 47: 'apple', 48: 'sandwich', 49: 'orange', 50: 'broccoli', 51: 'carrot', 52: 'hot dog', 53: 'pizza', 54: 'donut', 55: 'cake', 56: 'chair', 57: 'couch', 58: 'potted plant', 59: 'bed', 60: 'dining table', 61: 'toilet', 62: 'tv', 63: 'laptop', 64: 'mouse', 65: 'remote', 66: 'keyboard', 67: 'cell phone', 68: 'microwave', 69: 'oven', 70: 'toaster', 71: 'sink', 72: 'refrigerator', 73: 'book', 74: 'clock', 75: 'vase', 76: 'scissors', 77: 'teddy bear', 78: 'hair drier', 79: 'toothbrush'}\n",
    "    obb: None\n",
    "    orig_img: array([[[  0,   1,   1],\n",
    "        [ 93, 102, 103],\n",
    "        [ 93, 102, 103],\n",
    "    \"\"\"\n",
    "    def __init__(self, model_name, threshold=0.25,  **kwargs):\n",
    "        super().__init__(model_name, **kwargs)\n",
    "        self.focus_on_classes = [0]\n",
    "        self.threshold = threshold\n",
    "\n",
    "\n",
    "    def detect(self, frame: np.ndarray) -> tuple[np.array, np.array]:\n",
    "        \"\"\"\n",
    "        :param frame: frame in which detect people\n",
    "        :return: a np.array of the confidences scores, a np.array of the bounding box coordinates\n",
    "        \"\"\"\n",
    "        results = self(frame, classes=self.focus_on_classes, conf=self.threshold)[0] # list of 1 Results objec, because we can predict in batches\n",
    "        \"\"\"\n",
    "        cls: tensor([0., 0., 0., 0., 0., 0.], device='cuda:0')\n",
    "        conf: tensor([0.9429, 0.9262, 0.8841, 0.8833, 0.8824, 0.8773], device='cuda:0')\n",
    "        xywh: tensor([\n",
    "            [1207.5342,  576.8246,  510.5572,  977.0013],\n",
    "            [ 447.3520,  351.2901,  267.4479,  537.2728],\n",
    "            [ 709.4022,  370.9929,  235.7747,  489.7085],\n",
    "            [ 317.8023,  557.6183,  408.7670,  422.3871],\n",
    "            [1684.3063,  498.2565,  354.5173,  403.8601],\n",
    "            [1512.9242,  217.1133,  132.6541,  321.3105]\n",
    "        ])\n",
    "        \"\"\"\n",
    "        return results.probs.numpy(), results.boxes.numpy()\n"
   ],
   "id": "4d9194314ee27323",
   "outputs": [],
   "execution_count": 34
  },
  {
   "metadata": {},
   "cell_type": "markdown",
   "source": [
    "## PROCESS VIDEO\n",
    "*Here happens the magick*\n"
   ],
   "id": "e2447958e18206ed"
  },
  {
   "metadata": {
    "ExecuteTime": {
     "end_time": "2025-01-19T20:41:21.060438Z",
     "start_time": "2025-01-19T20:41:21.056037Z"
    }
   },
   "cell_type": "code",
   "source": [
    "def process_video(video_path: str, people_detector: PeopleDetector, scale: float = 0.5, overlap_threshold: float = 0.3, area_threshold: int = 100, early_stop=None):\n",
    "    \"\"\"\n",
    "    Processes the input video.\n",
    "    Parameters:\n",
    "        video_path: Path to the video file.\n",
    "        scale: Scaling factor for resizing frames.\n",
    "        overlap_threshold: Threshold for merging overlapping detections using IoU.\n",
    "        area_threshold: Minimum area for detected bounding boxes.\n",
    "        people_detector: YOLO model to detect people.\n",
    "    \"\"\"\n",
    "    capture = cv.VideoCapture(video_path)\n",
    "    back_sub = cv.createBackgroundSubtractorMOG2(detectShadows=False)\n",
    "    iterations = 0\n",
    "    while early_stop is not None and iterations < early_stop:\n",
    "        iterations += 1\n",
    "        ret, frame = capture.read()\n",
    "        if not ret:\n",
    "            break\n",
    "\n",
    "        frame = cv.resize(frame, None, fx=scale, fy=scale, interpolation=cv.INTER_LINEAR)\n",
    "\n",
    "        detections, merged_detections, frame = mog2_movement_detection(frame, background_subtractor=back_sub, area_threshold=area_threshold,\n",
    "                                overlap_threshold=overlap_threshold, draw=True)\n",
    "\n",
    "        # crop frames on bboxes\n",
    "        cropped_frames = crop_bboxes(frame, bboxes=[md[:-1] for md in merged_detections])\n",
    "\n",
    "        # detect people on cropped frames\n",
    "\n",
    "        result = people_detector.detect(frame)\n",
    "        print(result)\n",
    "        if len(result) > 0:\n",
    "            annotated_frame = result.plot()\n",
    "        else: annotated_frame = frame\n",
    "        view(annotated_frame)\n",
    "        # for frame in cropped_frames:\n",
    "        #     stop = view(frame, scale=scale)\n",
    "        #     if not stop:\n",
    "        #         break\n",
    "    else:\n",
    "        print(f\"Stopped after {iterations} frames due early stopping condition.\")\n",
    "\n",
    "    capture.release()\n",
    "    cv.destroyAllWindows()\n",
    "\n",
    "    if sys.platform == 'darwin':\n",
    "        for _ in range(4):\n",
    "            cv.waitKey(1)\n",
    "\n",
    "    cv.destroyAllWindows()\n",
    "\n"
   ],
   "id": "8a3902c9f9ae4861",
   "outputs": [],
   "execution_count": 24
  },
  {
   "metadata": {},
   "cell_type": "markdown",
   "source": "## Main",
   "id": "b8d04d81258a7f91"
  },
  {
   "metadata": {
    "ExecuteTime": {
     "end_time": "2025-01-19T20:56:35.897056Z",
     "start_time": "2025-01-19T20:56:35.287614Z"
    }
   },
   "cell_type": "code",
   "source": [
    "yolosize = 'x'\n",
    "yolo11 = PeopleDetector(f\"yolo11{yolosize}.pt\", verbose=False)\n",
    "\n",
    "results = yolo11.detect(\"The-Office-HD-Background.jpg\")\n"
   ],
   "id": "c51cdddc4972c528",
   "outputs": [
    {
     "name": "stdout",
     "output_type": "stream",
     "text": [
      "\n",
      "image 1/1 /home/tommaso/PycharmProjects/ComputerVision/The-Office-HD-Background.jpg: 384x640 6 persons, 22.9ms\n",
      "Speed: 1.4ms preprocess, 22.9ms inference, 1.0ms postprocess per image at shape (1, 3, 384, 640)\n",
      "ultralytics.engine.results.Boxes object with attributes:\n",
      "\n",
      "cls: tensor([0., 0., 0., 0., 0., 0.], device='cuda:0')\n",
      "conf: tensor([0.9429, 0.9262, 0.8841, 0.8833, 0.8824, 0.8773], device='cuda:0')\n",
      "data: tensor([[9.5226e+02, 8.8324e+01, 1.4628e+03, 1.0653e+03, 9.4288e-01, 0.0000e+00],\n",
      "        [3.1363e+02, 8.2654e+01, 5.8108e+02, 6.1993e+02, 9.2615e-01, 0.0000e+00],\n",
      "        [5.9151e+02, 1.2614e+02, 8.2729e+02, 6.1585e+02, 8.8410e-01, 0.0000e+00],\n",
      "        [1.1342e+02, 3.4642e+02, 5.2219e+02, 7.6881e+02, 8.8327e-01, 0.0000e+00],\n",
      "        [1.5070e+03, 2.9633e+02, 1.8616e+03, 7.0019e+02, 8.8236e-01, 0.0000e+00],\n",
      "        [1.4466e+03, 5.6458e+01, 1.5793e+03, 3.7777e+02, 8.7731e-01, 0.0000e+00]], device='cuda:0')\n",
      "id: None\n",
      "is_track: False\n",
      "orig_shape: (1080, 1920)\n",
      "shape: torch.Size([6, 6])\n",
      "xywh: tensor([[1207.5342,  576.8246,  510.5572,  977.0013],\n",
      "        [ 447.3520,  351.2901,  267.4479,  537.2728],\n",
      "        [ 709.4022,  370.9929,  235.7747,  489.7085],\n",
      "        [ 317.8023,  557.6183,  408.7670,  422.3871],\n",
      "        [1684.3063,  498.2565,  354.5173,  403.8601],\n",
      "        [1512.9242,  217.1133,  132.6541,  321.3105]], device='cuda:0')\n",
      "xywhn: tensor([[0.6289, 0.5341, 0.2659, 0.9046],\n",
      "        [0.2330, 0.3253, 0.1393, 0.4975],\n",
      "        [0.3695, 0.3435, 0.1228, 0.4534],\n",
      "        [0.1655, 0.5163, 0.2129, 0.3911],\n",
      "        [0.8772, 0.4613, 0.1846, 0.3739],\n",
      "        [0.7880, 0.2010, 0.0691, 0.2975]], device='cuda:0')\n",
      "xyxy: tensor([[ 952.2556,   88.3239, 1462.8127, 1065.3253],\n",
      "        [ 313.6281,   82.6538,  581.0759,  619.9265],\n",
      "        [ 591.5149,  126.1387,  827.2896,  615.8472],\n",
      "        [ 113.4188,  346.4248,  522.1858,  768.8119],\n",
      "        [1507.0476,  296.3264, 1861.5649,  700.1865],\n",
      "        [1446.5972,   56.4581, 1579.2512,  377.7686]], device='cuda:0')\n",
      "xyxyn: tensor([[0.4960, 0.0818, 0.7619, 0.9864],\n",
      "        [0.1633, 0.0765, 0.3026, 0.5740],\n",
      "        [0.3081, 0.1168, 0.4309, 0.5702],\n",
      "        [0.0591, 0.3208, 0.2720, 0.7119],\n",
      "        [0.7849, 0.2744, 0.9696, 0.6483],\n",
      "        [0.7534, 0.0523, 0.8225, 0.3498]], device='cuda:0') \n",
      " None\n",
      "----------------------------------------------------------------------------------------------------\n"
     ]
    }
   ],
   "execution_count": 38
  },
  {
   "metadata": {
    "ExecuteTime": {
     "end_time": "2025-01-19T20:42:19.839179Z",
     "start_time": "2025-01-19T20:42:18.813556Z"
    }
   },
   "cell_type": "code",
   "source": [
    "video_path = 'SamsungGear360.mp4'\n",
    "process_video(video_path, yolo11, scale=0.5, overlap_threshold=0.0005, area_threshold=700, early_stop=1000)"
   ],
   "id": "3946034d83bc6843",
   "outputs": [
    {
     "name": "stdout",
     "output_type": "stream",
     "text": [
      "\n",
      "image 1/1 /home/tommaso/PycharmProjects/ComputerVision/The-Office-HD-Background.jpg: 384x640 6 persons, 55.1ms\n",
      "Speed: 1.4ms preprocess, 55.1ms inference, 0.9ms postprocess per image at shape (1, 3, 384, 640)\n",
      "[ultralytics.engine.results.Results object with attributes:\n",
      "\n",
      "boxes: ultralytics.engine.results.Boxes object\n",
      "keypoints: None\n",
      "masks: None\n",
      "names: {0: 'person', 1: 'bicycle', 2: 'car', 3: 'motorcycle', 4: 'airplane', 5: 'bus', 6: 'train', 7: 'truck', 8: 'boat', 9: 'traffic light', 10: 'fire hydrant', 11: 'stop sign', 12: 'parking meter', 13: 'bench', 14: 'bird', 15: 'cat', 16: 'dog', 17: 'horse', 18: 'sheep', 19: 'cow', 20: 'elephant', 21: 'bear', 22: 'zebra', 23: 'giraffe', 24: 'backpack', 25: 'umbrella', 26: 'handbag', 27: 'tie', 28: 'suitcase', 29: 'frisbee', 30: 'skis', 31: 'snowboard', 32: 'sports ball', 33: 'kite', 34: 'baseball bat', 35: 'baseball glove', 36: 'skateboard', 37: 'surfboard', 38: 'tennis racket', 39: 'bottle', 40: 'wine glass', 41: 'cup', 42: 'fork', 43: 'knife', 44: 'spoon', 45: 'bowl', 46: 'banana', 47: 'apple', 48: 'sandwich', 49: 'orange', 50: 'broccoli', 51: 'carrot', 52: 'hot dog', 53: 'pizza', 54: 'donut', 55: 'cake', 56: 'chair', 57: 'couch', 58: 'potted plant', 59: 'bed', 60: 'dining table', 61: 'toilet', 62: 'tv', 63: 'laptop', 64: 'mouse', 65: 'remote', 66: 'keyboard', 67: 'cell phone', 68: 'microwave', 69: 'oven', 70: 'toaster', 71: 'sink', 72: 'refrigerator', 73: 'book', 74: 'clock', 75: 'vase', 76: 'scissors', 77: 'teddy bear', 78: 'hair drier', 79: 'toothbrush'}\n",
      "obb: None\n",
      "orig_img: array([[[149, 170, 172],\n",
      "        [149, 170, 172],\n",
      "        [148, 169, 171],\n",
      "        ...,\n",
      "        [ 40,  95, 108],\n",
      "        [ 38,  93, 106],\n",
      "        [ 37,  92, 105]],\n",
      "\n",
      "       [[149, 170, 172],\n",
      "        [149, 170, 172],\n",
      "        [149, 170, 172],\n",
      "        ...,\n",
      "        [ 42,  95, 108],\n",
      "        [ 40,  93, 106],\n",
      "        [ 39,  92, 105]],\n",
      "\n",
      "       [[150, 171, 173],\n",
      "        [150, 171, 173],\n",
      "        [150, 171, 173],\n",
      "        ...,\n",
      "        [ 43,  95, 108],\n",
      "        [ 42,  94, 107],\n",
      "        [ 40,  92, 105]],\n",
      "\n",
      "       ...,\n",
      "\n",
      "       [[ 89, 197, 221],\n",
      "        [ 89, 197, 221],\n",
      "        [ 89, 197, 221],\n",
      "        ...,\n",
      "        [ 62,  60,  50],\n",
      "        [ 62,  60,  50],\n",
      "        [ 62,  60,  50]],\n",
      "\n",
      "       [[ 90, 198, 222],\n",
      "        [ 90, 198, 222],\n",
      "        [ 90, 198, 222],\n",
      "        ...,\n",
      "        [ 63,  60,  52],\n",
      "        [ 63,  60,  52],\n",
      "        [ 63,  60,  52]],\n",
      "\n",
      "       [[ 90, 198, 222],\n",
      "        [ 90, 198, 222],\n",
      "        [ 90, 198, 222],\n",
      "        ...,\n",
      "        [ 63,  60,  52],\n",
      "        [ 63,  60,  52],\n",
      "        [ 63,  60,  52]]], dtype=uint8)\n",
      "orig_shape: (1080, 1920)\n",
      "path: '/home/tommaso/PycharmProjects/ComputerVision/The-Office-HD-Background.jpg'\n",
      "probs: None\n",
      "save_dir: '/home/tommaso/PycharmProjects/ComputerVision/runs/detect/predict'\n",
      "speed: {'preprocess': 1.4455318450927734, 'inference': 55.11188507080078, 'postprocess': 0.8919239044189453}]\n"
     ]
    },
    {
     "ename": "AttributeError",
     "evalue": "'list' object has no attribute 'plot'",
     "output_type": "error",
     "traceback": [
      "\u001B[0;31m---------------------------------------------------------------------------\u001B[0m",
      "\u001B[0;31mAttributeError\u001B[0m                            Traceback (most recent call last)",
      "Cell \u001B[0;32mIn[28], line 2\u001B[0m\n\u001B[1;32m      1\u001B[0m video_path \u001B[38;5;241m=\u001B[39m \u001B[38;5;124m'\u001B[39m\u001B[38;5;124mSamsungGear360.mp4\u001B[39m\u001B[38;5;124m'\u001B[39m\n\u001B[0;32m----> 2\u001B[0m \u001B[43mprocess_video\u001B[49m\u001B[43m(\u001B[49m\u001B[43mvideo_path\u001B[49m\u001B[43m,\u001B[49m\u001B[43m \u001B[49m\u001B[43myolo11\u001B[49m\u001B[43m,\u001B[49m\u001B[43m \u001B[49m\u001B[43mscale\u001B[49m\u001B[38;5;241;43m=\u001B[39;49m\u001B[38;5;241;43m0.5\u001B[39;49m\u001B[43m,\u001B[49m\u001B[43m \u001B[49m\u001B[43moverlap_threshold\u001B[49m\u001B[38;5;241;43m=\u001B[39;49m\u001B[38;5;241;43m0.0005\u001B[39;49m\u001B[43m,\u001B[49m\u001B[43m \u001B[49m\u001B[43marea_threshold\u001B[49m\u001B[38;5;241;43m=\u001B[39;49m\u001B[38;5;241;43m700\u001B[39;49m\u001B[43m,\u001B[49m\u001B[43m \u001B[49m\u001B[43mearly_stop\u001B[49m\u001B[38;5;241;43m=\u001B[39;49m\u001B[38;5;241;43m1000\u001B[39;49m\u001B[43m)\u001B[49m\n",
      "Cell \u001B[0;32mIn[24], line 33\u001B[0m, in \u001B[0;36mprocess_video\u001B[0;34m(video_path, people_detector, scale, overlap_threshold, area_threshold, early_stop)\u001B[0m\n\u001B[1;32m     31\u001B[0m \u001B[38;5;28mprint\u001B[39m(result)\n\u001B[1;32m     32\u001B[0m \u001B[38;5;28;01mif\u001B[39;00m \u001B[38;5;28mlen\u001B[39m(result) \u001B[38;5;241m>\u001B[39m \u001B[38;5;241m0\u001B[39m:\n\u001B[0;32m---> 33\u001B[0m     annotated_frame \u001B[38;5;241m=\u001B[39m \u001B[43mresult\u001B[49m\u001B[38;5;241;43m.\u001B[39;49m\u001B[43mplot\u001B[49m()\n\u001B[1;32m     34\u001B[0m \u001B[38;5;28;01melse\u001B[39;00m: annotated_frame \u001B[38;5;241m=\u001B[39m frame\n\u001B[1;32m     35\u001B[0m view(annotated_frame)\n",
      "\u001B[0;31mAttributeError\u001B[0m: 'list' object has no attribute 'plot'"
     ]
    }
   ],
   "execution_count": 28
  },
  {
   "metadata": {},
   "cell_type": "markdown",
   "source": "# People Detection TEST\n",
   "id": "e027d6955f3367c9"
  },
  {
   "metadata": {},
   "cell_type": "markdown",
   "source": [
    "Define the base functions for people detection. <br/>\n",
    "It Takes as input an array of frames containing the motion detected by MOG2 above"
   ],
   "id": "f1de7d0bb118f7b1"
  },
  {
   "metadata": {},
   "cell_type": "code",
   "source": [
    "# imports\n",
    "from ultralytics import YOLO\n",
    "from PIL import Image"
   ],
   "id": "91ab0819e0ce2630",
   "outputs": [],
   "execution_count": null
  },
  {
   "metadata": {},
   "cell_type": "code",
   "source": [
    "# Load a model\n",
    "model = PeopleDetector(\"./yolo11x.pt\")  # load an official model, or use local path"
   ],
   "id": "4b39a6e73355cefc",
   "outputs": [],
   "execution_count": null
  },
  {
   "metadata": {},
   "cell_type": "code",
   "source": [
    "def test_yolo11(video_path: str, scale: float = 0.5):\n",
    "    # Open the video file\n",
    "    cap = cv.VideoCapture(video_path)\n",
    "\n",
    "    # Loop through the video frames\n",
    "    while cap.isOpened():\n",
    "        # Read a frame from the video\n",
    "        success, frame = cap.read()\n",
    "\n",
    "        if success:\n",
    "            # Run YOLO inference on the frame\n",
    "            # frame = cv.resize(frame, None, fx=0.5, fy=0.5, interpolation=cv.INTER_LINEAR)\n",
    "            results = model(frame)\n",
    "\n",
    "            # Visualize the results on the frame\n",
    "            annotated_frame = results[0].plot()\n",
    "            annotated_frame = cv.resize(annotated_frame, None, fx=scale, fy=scale, interpolation=cv.INTER_LINEAR)\n",
    "            # Display the annotated frame\n",
    "            cv.imshow(\"YOLO Inference\", annotated_frame)\n",
    "\n",
    "            # Break the loop if 'q' is pressed\n",
    "            if cv.waitKey(1) & 0xFF == ord(\"q\"):\n",
    "                break\n",
    "        else:\n",
    "            # Break the loop if the end of the video is reached\n",
    "            break\n",
    "\n",
    "    # Release the video capture object and close the display window\n",
    "    cap.release()\n",
    "    cv.destroyAllWindows()"
   ],
   "id": "7ca67ec510bc568a",
   "outputs": [],
   "execution_count": null
  },
  {
   "metadata": {},
   "cell_type": "markdown",
   "source": "## Main test YOLO11",
   "id": "a311a48f20a0b0cb"
  },
  {
   "metadata": {},
   "cell_type": "code",
   "source": "test_yolo11(\"SamsungGear360.mp4\", scale=0.25)",
   "id": "10ce9b273702bcbf",
   "outputs": [],
   "execution_count": null
  }
 ],
 "metadata": {
  "kernelspec": {
   "display_name": "Python 3",
   "language": "python",
   "name": "python3"
  },
  "language_info": {
   "codemirror_mode": {
    "name": "ipython",
    "version": 2
   },
   "file_extension": ".py",
   "mimetype": "text/x-python",
   "name": "python",
   "nbconvert_exporter": "python",
   "pygments_lexer": "ipython2",
   "version": "2.7.6"
  }
 },
 "nbformat": 4,
 "nbformat_minor": 5
}
