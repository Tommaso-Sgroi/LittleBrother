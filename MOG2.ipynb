{
 "cells": [
  {
   "metadata": {
    "ExecuteTime": {
     "end_time": "2025-01-18T21:07:14.594681Z",
     "start_time": "2025-01-18T21:07:14.589504Z"
    }
   },
   "cell_type": "code",
   "source": [
    "import cv2 as cv\n",
    "import numpy as np\n",
    "import matplotlib.pyplot as plt"
   ],
   "id": "28ba7b0acca4ed32",
   "outputs": [],
   "execution_count": 33
  },
  {
   "metadata": {},
   "cell_type": "markdown",
   "source": "# Utilities function",
   "id": "75150a3e4d0db179"
  },
  {
   "metadata": {
    "ExecuteTime": {
     "end_time": "2025-01-18T21:07:14.605976Z",
     "start_time": "2025-01-18T21:07:14.603104Z"
    }
   },
   "cell_type": "code",
   "source": [
    "def get_motion_mask(fg_mask, min_thresh=0, kernel=np.array((9,9), dtype=np.uint8)):\n",
    "    \"\"\" Obtains image mask\n",
    "        Inputs: \n",
    "            fg_mask - foreground mask\n",
    "            kernel - kernel for Morphological Operations\n",
    "        Outputs: \n",
    "            mask - Thresholded mask for moving pixels\n",
    "        \"\"\"\n",
    "    _, thresh = cv.threshold(fg_mask,min_thresh,255,cv.THRESH_BINARY)\n",
    "    motion_mask = cv.medianBlur(thresh, 3)\n",
    "    \n",
    "    # morphological operations\n",
    "    motion_mask = cv.morphologyEx(motion_mask, cv.MORPH_OPEN, kernel, iterations=1)\n",
    "    motion_mask = cv.morphologyEx(motion_mask, cv.MORPH_CLOSE, kernel, iterations=1)\n",
    "\n",
    "    return motion_mask"
   ],
   "id": "4c00fd83b9ca9db8",
   "outputs": [],
   "execution_count": 34
  },
  {
   "metadata": {
    "ExecuteTime": {
     "end_time": "2025-01-18T21:07:14.620450Z",
     "start_time": "2025-01-18T21:07:14.614525Z"
    }
   },
   "cell_type": "code",
   "source": [
    "def remove_contained_bboxes(boxes):\n",
    "    \"\"\"Removes all smaller boxes that are contained within larger boxes.\n",
    "    Requires bboxes to be soirted by area (score)\n",
    "    Inputs:\n",
    "        boxes - array bounding boxes sorted (descending) by area\n",
    "                [[x1,y1,x2,y2]]\n",
    "    Outputs:\n",
    "        keep - indexes of bounding boxes that are not entirely contained\n",
    "               in another box\n",
    "    \"\"\"\n",
    "    check_array = np.array([True, True, False, False])\n",
    "    keep = list(range(0, len(boxes)))\n",
    "    for i in keep:  # range(0, len(bboxes)):\n",
    "        for j in range(0, len(boxes)):\n",
    "            # check if box j is completely contained in box i\n",
    "            if np.all((np.array(boxes[j]) >= np.array(boxes[i])) == check_array):\n",
    "                try:\n",
    "                    keep.remove(j)\n",
    "                except ValueError:\n",
    "                    continue\n",
    "    return keep\n",
    "\n",
    "\n",
    "def non_max_suppression(boxes, scores, threshold=1e-1):\n",
    "    \"\"\"\n",
    "    Perform non-max suppression on a set of bounding boxes\n",
    "    and corresponding scores.\n",
    "    Inputs:\n",
    "        boxes: a list of bounding boxes in the format [xmin, ymin, xmax, ymax]\n",
    "        scores: a list of corresponding scores\n",
    "        threshold: the IoU (intersection-over-union) threshold for merging bboxes\n",
    "    Outputs:\n",
    "        boxes - non-max suppressed boxes\n",
    "    \"\"\"\n",
    "    # Sort the boxes by score in descending order\n",
    "    boxes = boxes[np.argsort(scores)[::-1]]\n",
    "\n",
    "    # remove all contained bounding boxes and get ordered index\n",
    "    order = remove_contained_bboxes(boxes)\n",
    "\n",
    "    keep = []\n",
    "    while order:\n",
    "        i = order.pop(0)\n",
    "        keep.append(i)\n",
    "        for j in order:\n",
    "            # Calculate the IoU between the two boxes\n",
    "            intersection = max(\n",
    "                0, min(boxes[i][2], boxes[j][2]) - max(boxes[i][0], boxes[j][0])\n",
    "            ) * max(0, min(boxes[i][3], boxes[j][3]) - max(boxes[i][1], boxes[j][1]))\n",
    "            union = (\n",
    "                (boxes[i][2] - boxes[i][0]) * (boxes[i][3] - boxes[i][1])\n",
    "                + (boxes[j][2] - boxes[j][0]) * (boxes[j][3] - boxes[j][1])\n",
    "                - intersection\n",
    "            )\n",
    "            iou = intersection / union\n",
    "\n",
    "            # Remove boxes with IoU greater than the threshold\n",
    "            if iou > threshold:\n",
    "                order.remove(j)\n",
    "\n",
    "    return boxes[keep]"
   ],
   "id": "a0380e9f3894a3d1",
   "outputs": [],
   "execution_count": 35
  },
  {
   "metadata": {
    "ExecuteTime": {
     "end_time": "2025-01-18T21:07:14.631198Z",
     "start_time": "2025-01-18T21:07:14.628570Z"
    }
   },
   "cell_type": "code",
   "source": [
    "def get_contour_detections(mask, thresh=400):\n",
    "    \"\"\" Obtains initial proposed detections from contours discoverd on the\n",
    "        mask. Scores are taken as the bbox area, larger is higher.\n",
    "        Inputs:\n",
    "            mask - thresholded image mask\n",
    "            thresh - threshold for contour size\n",
    "        Outputs:\n",
    "            detectons - array of proposed detection bounding boxes and scores\n",
    "                        [[x1,y1,x2,y2,s]]\n",
    "        \"\"\"\n",
    "    # get mask contours\n",
    "    contours, _ = cv.findContours(mask,\n",
    "                                   cv.RETR_EXTERNAL, # cv2.RETR_TREE,\n",
    "                                   cv.CHAIN_APPROX_TC89_L1)\n",
    "    detections = []\n",
    "    for cnt in contours:\n",
    "        x,y,w,h = cv.boundingRect(cnt)\n",
    "        area = w*h\n",
    "        if area > thresh: # hyperparameter\n",
    "            detections.append([x,y,x+w,y+h, area])\n",
    "\n",
    "    return np.array(detections)"
   ],
   "id": "9b9d642ed115598b",
   "outputs": [],
   "execution_count": 36
  },
  {
   "metadata": {
    "ExecuteTime": {
     "end_time": "2025-01-18T21:07:14.641659Z",
     "start_time": "2025-01-18T21:07:14.637218Z"
    }
   },
   "cell_type": "code",
   "source": [
    "def get_detections(backSub, frame, bbox_thresh=100, nms_thresh=0.1, kernel=np.array((9,9), dtype=np.uint8)):\n",
    "    \"\"\" Main function to get detections via Frame Differencing\n",
    "        Inputs:\n",
    "            backSub - Background Subtraction Model\n",
    "            frame - Current BGR Frame\n",
    "            bbox_thresh - Minimum threshold area for declaring a bounding box\n",
    "            nms_thresh - IOU threshold for computing Non-Maximal Supression\n",
    "            kernel - kernel for morphological operations on motion mask\n",
    "        Outputs:\n",
    "            detections - list with bounding box locations of all detections\n",
    "                bounding boxes are in the form of: (xmin, ymin, xmax, ymax)\n",
    "        \"\"\"\n",
    "    # Update Background Model and get foreground mask\n",
    "    fg_mask = backSub.apply(frame)\n",
    "\n",
    "    # get clean motion mask\n",
    "    motion_mask = get_motion_mask(fg_mask, min_thresh=127, kernel=kernel)\n",
    "\n",
    "    # get initially proposed detections from contours\n",
    "    detections = get_contour_detections(motion_mask, bbox_thresh)\n",
    "\n",
    "    if len(detections) == 0:\n",
    "        return np.array([], dtype=np.int32)\n",
    "\n",
    "    # separate bboxes and scores\n",
    "    bboxes = detections[:, :4]\n",
    "    scores = detections[:, -1]\n",
    "\n",
    "    # perform Non-Maximal Supression on initial detections\n",
    "    return non_max_suppression(bboxes, scores, nms_thresh)"
   ],
   "id": "8341c55c386040a4",
   "outputs": [],
   "execution_count": 37
  },
  {
   "metadata": {
    "ExecuteTime": {
     "end_time": "2025-01-18T21:07:14.649183Z",
     "start_time": "2025-01-18T21:07:14.646916Z"
    }
   },
   "cell_type": "code",
   "source": [
    "def draw_bboxes(frame, detections):\n",
    "    for det in detections:\n",
    "        x1,y1,x2,y2 = det\n",
    "        cv.rectangle(frame, (x1,y1), (x2,y2), (0,255,0), 3)\n"
   ],
   "id": "9814c79785f2d15f",
   "outputs": [],
   "execution_count": 38
  },
  {
   "metadata": {},
   "cell_type": "markdown",
   "source": "# \"Main\"",
   "id": "640253d53d619d9f"
  },
  {
   "cell_type": "code",
   "id": "initial_id",
   "metadata": {
    "collapsed": true,
    "ExecuteTime": {
     "end_time": "2025-01-18T21:07:14.692579Z",
     "start_time": "2025-01-18T21:07:14.654120Z"
    }
   },
   "source": [
    "sub_type = 'MOG2' # 'KNN' or 'MOG2'\n",
    "if sub_type == \"MOG2\":\n",
    "    backSub = cv.createBackgroundSubtractorMOG2(varThreshold=16, detectShadows=False)\n",
    "    # backSub.setShadowThreshold(0.75)\n",
    "else:\n",
    "    backSub = cv.createBackgroundSubtractorKNN(dist2Threshold=1000, detectShadows=False)"
   ],
   "outputs": [],
   "execution_count": 39
  },
  {
   "metadata": {
    "ExecuteTime": {
     "end_time": "2025-01-18T21:07:18.547006Z",
     "start_time": "2025-01-18T21:07:14.698888Z"
    }
   },
   "cell_type": "code",
   "source": [
    "cap = cv.VideoCapture(cv.samples.findFile(\"SamsungGear360.mp4\"))\n",
    "\n",
    "while True:\n",
    "    ret, frame = cap.read()\n",
    "    if frame is None:\n",
    "        break\n",
    "\n",
    "    detections = get_detections(backSub, frame, bbox_thresh=100, nms_thresh=0.01, kernel=np.array((9,9), dtype=np.uint8))\n",
    "\n",
    "    draw_bboxes(frame, detections)\n",
    "\n",
    "    cv.imshow(\"Detections\", frame)\n",
    "\n",
    "    key = cv.waitKey(1)\n",
    "    if key in [27, ord(\"q\"), ord(\"Q\")]:\n",
    "        cv.destroyAllWindows()\n",
    "\n",
    "        # this is nosense, but it's the only way to close the window\n",
    "        # https://stackoverflow.com/questions/6116564/destroywindow-does-not-close-window-on-mac-using-python-and-opencv\n",
    "        for _ in range(4):\n",
    "            cv.waitKey(1)\n",
    "\n",
    "        break\n",
    "\n",
    "cap.release()"
   ],
   "id": "9be9652d43dac136",
   "outputs": [],
   "execution_count": 40
  }
 ],
 "metadata": {
  "kernelspec": {
   "display_name": "Python 3",
   "language": "python",
   "name": "python3"
  },
  "language_info": {
   "codemirror_mode": {
    "name": "ipython",
    "version": 2
   },
   "file_extension": ".py",
   "mimetype": "text/x-python",
   "name": "python",
   "nbconvert_exporter": "python",
   "pygments_lexer": "ipython2",
   "version": "2.7.6"
  }
 },
 "nbformat": 4,
 "nbformat_minor": 5
}
